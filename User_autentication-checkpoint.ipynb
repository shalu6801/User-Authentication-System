{
 "cells": [
  {
   "cell_type": "markdown",
   "id": "439cc4fc-970a-4138-8c51-e15c03714620",
   "metadata": {},
   "source": [
    "## USER AUTHENTICATION SYSTEM"
   ]
  },
  {
   "cell_type": "markdown",
   "id": "fba90cbb-b60e-4582-bc11-d4de89df2248",
   "metadata": {},
   "source": [
    "#### Feature list\n",
    "- Sign up\n",
    "  - username(will be unique)\n",
    "  - email(will be unique)\n",
    "  - password\n",
    "  - personal details\n",
    "    - name\n",
    "    - phone no.\n",
    "    - address\n",
    "    - dob\n",
    "  - password recovery\n",
    "    - backupcodes\n",
    "    - security question -2\n",
    "      \n",
    "- Sign in\n",
    "  - forgot password\n",
    "    - password recovery\n",
    "  - username\n",
    "  - password\n",
    "  - change password\n",
    "  - profile\n",
    "    \n",
    "- Database"
   ]
  },
  {
   "cell_type": "code",
   "execution_count": 1,
   "id": "45995011-1080-4661-a768-87855ca02108",
   "metadata": {},
   "outputs": [],
   "source": [
    "import pandas as pd\n",
    "import random\n",
    "import os"
   ]
  },
  {
   "cell_type": "code",
   "execution_count": 2,
   "id": "5a36a670-9e62-468b-b42f-2733e8d36100",
   "metadata": {},
   "outputs": [],
   "source": [
    "def initialize_database():\n",
    "    if not os.path.exists('data.csv'):\n",
    "        df = pd.DataFrame(columns=[\n",
    "            'userId', 'username', 'email', 'password',\n",
    "            'name', 'phone_number', 'dob',\n",
    "            'backup_code', 'secAns1','secAns2'\n",
    "        ])\n",
    "        df.to_csv('data.csv', index=False)\n"
   ]
  },
  {
   "cell_type": "code",
   "execution_count": 3,
   "id": "36f87202-860e-4a56-992e-dee13073ac7d",
   "metadata": {},
   "outputs": [
    {
     "name": "stdout",
     "output_type": "stream",
     "text": [
      "Columns: ['userId', 'username', 'email', 'password', 'name', 'phone_no', 'dob', 'backup_code', 'secAns1', 'secAns2']\n",
      "Number of columns: 10\n"
     ]
    }
   ],
   "source": [
    "df = pd.read_csv('data.csv')\n",
    "print(\"Columns:\", df.columns.tolist())\n",
    "print(\"Number of columns:\", len(df.columns))"
   ]
  },
  {
   "cell_type": "code",
   "execution_count": 4,
   "id": "335e0ffc-87b0-4fc6-ad26-55eb626ba7dc",
   "metadata": {},
   "outputs": [],
   "source": [
    "def databaseindict():\n",
    "    return pd.read_csv('data.csv')"
   ]
  },
  {
   "cell_type": "code",
   "execution_count": 5,
   "id": "c8c5930f-7dfe-41ca-b6dd-63faa9472768",
   "metadata": {},
   "outputs": [],
   "source": [
    "def userId():\n",
    "    db = databaseindict()\n",
    "    if db.empty:\n",
    "        return 1\n",
    "    else:\n",
    "        return db['userId'].astype(int).max() + 1\n"
   ]
  },
  {
   "cell_type": "code",
   "execution_count": 6,
   "id": "ef55dda5-fd68-4f57-a4c2-2582a5f7d762",
   "metadata": {},
   "outputs": [],
   "source": [
    "def fewdetails():\n",
    "    db = databaseindict()\n",
    "    while True:\n",
    "        username = input(\"Enter your new username: \").lower()\n",
    "        if username not in db['username'].tolist():\n",
    "            email = input(\"Enter your email: \")\n",
    "            if email not in db['email'].tolist():\n",
    "                break\n",
    "            else:\n",
    "                print(\"Email already exists.\")\n",
    "        else:\n",
    "            print(\"Username already exists.\")\n",
    "    password = input(\"Enter your password: \")\n",
    "    return username, email, password"
   ]
  },
  {
   "cell_type": "code",
   "execution_count": 7,
   "id": "7e799990-c6df-48da-9013-cbb42044d6a2",
   "metadata": {},
   "outputs": [],
   "source": [
    "def basicdetail():\n",
    "    name = input(\"Enter your name: \")\n",
    "    phone_number = input(\"Enter your phone number (+91): \")\n",
    "    dob = input(\"Enter your Date of Birth (DD-MM-YYYY): \")\n",
    "    return name, phone_number, dob"
   ]
  },
  {
   "cell_type": "code",
   "execution_count": 8,
   "id": "c09dd027-ee08-4450-b635-3ad4a3d6950c",
   "metadata": {},
   "outputs": [],
   "source": [
    "def backup_code():\n",
    "    code = ''.join([str(random.randint(1, 9)) for _ in range(4)])\n",
    "    print(\"Remember this backup code if you forget the password:\", code)\n",
    "    return code"
   ]
  },
  {
   "cell_type": "code",
   "execution_count": 9,
   "id": "33531d36-1663-4b2f-b2c7-ad615aa42ccb",
   "metadata": {},
   "outputs": [],
   "source": [
    "def securityAns():\n",
    "    ans1 = input(\"Enter your favorite place name (Security Answer 1): \")\n",
    "    ans2 = input(\"Enter your favorite movie (Security Answer 2): \")\n",
    "    return ans1, ans2\n"
   ]
  },
  {
   "cell_type": "code",
   "execution_count": 10,
   "id": "ab338e72-bcf7-416a-9d92-dc40922f991f",
   "metadata": {},
   "outputs": [],
   "source": [
    "def signup():\n",
    "    print(\"\\n--- Welcome to SignUp page ---\")\n",
    "    db = databaseindict()\n",
    "\n",
    "    user = userId()\n",
    "    username, email, password = fewdetails()\n",
    "    name, phone_number, dob = basicdetail()\n",
    "    backup = backup_code()\n",
    "    secAns1, secAns2 = securityAns()  # getting both answers\n",
    "\n",
    "    new_row = {\n",
    "        'userId': user,\n",
    "        'username': username,\n",
    "        'email': email,\n",
    "        'password': password,\n",
    "        'name': name,\n",
    "        'phone_number': phone_number,\n",
    "        'dob': dob,\n",
    "        'backup_code': backup,\n",
    "        'secAns1': secAns1,\n",
    "        'secAns2': secAns2\n",
    "    }\n",
    "\n",
    "    db = pd.concat([db, pd.DataFrame([new_row])], ignore_index=True)\n",
    "    db.to_csv('data.csv', index=False)\n",
    "    print(\"SignUp Successful!\\n\")\n"
   ]
  },
  {
   "cell_type": "code",
   "execution_count": 11,
   "id": "bada65d7-86cf-4615-8778-939517eafc2e",
   "metadata": {},
   "outputs": [],
   "source": [
    "def signin():\n",
    "    print(\"\\n--- Welcome to SignIn page ---\")\n",
    "    db = databaseindict()\n",
    "    usernames = db['username'].tolist()\n",
    "    passwords = db['password'].tolist()\n",
    "\n",
    "    for _ in range(3):\n",
    "        user_input = input(\"Enter your username: \")\n",
    "        if user_input in usernames:\n",
    "            index = usernames.index(user_input)\n",
    "            user_password = input(\"Enter your password: \")\n",
    "            if user_password == passwords[index]:\n",
    "                print(\"You logged in successfully!\\n\")\n",
    "                return\n",
    "            else:\n",
    "                print(\"Wrong password.\")\n",
    "        else:\n",
    "            print(\"Wrong username.\")\n",
    "\n",
    "    choice = input(\"\\nForgot password? Press 1 to recover or any other key to try again: \")\n",
    "    if choice == '1':\n",
    "        forgetpassword()\n",
    "    else:\n",
    "        signin()"
   ]
  },
  {
   "cell_type": "code",
   "execution_count": 12,
   "id": "4900133d-6cf4-49ca-97f8-a05c657299fc",
   "metadata": {},
   "outputs": [],
   "source": [
    "def forgetpassword():\n",
    "    print(\"\\n--- Password Recovery ---\")\n",
    "    db = databaseindict()\n",
    "\n",
    "    username = input(\"Enter your username: \")\n",
    "\n",
    "    if username not in db['username'].tolist():\n",
    "        print(\"Username not found.\")\n",
    "        return\n",
    "\n",
    "    user_data = db[db['username'] == username]  \n",
    "    user_row = user_data.iloc[0]  \n",
    "    choice = input(\"Choose method:\\n1. Backup Code\\n2. Security Questions\\nEnter 1 or 2: \")\n",
    "\n",
    "    if choice == '1':\n",
    "        backup = input(\"Enter your backup code: \")\n",
    "        if backup == user_row['backup_code']:\n",
    "            new_password = input(\"Enter your new password: \")\n",
    "            db.loc[db['username'] == username, 'password'] = new_password\n",
    "            db.to_csv('data.csv', index=False)\n",
    "            print(\"Password updated successfully!\\n\")\n",
    "        else:\n",
    "            print(\"Invalid backup code.\")\n",
    "\n",
    "    elif choice == '2':\n",
    "        ans1 = input(\"Answer to security question 1: \")\n",
    "        ans2 = input(\"Answer to security question 2: \")\n",
    "\n",
    "        if ans1 == user_row['secAns1'] and ans2 == user_row['secAns2']:\n",
    "            new_password = input(\"Enter your new password: \")\n",
    "            db.loc[db['username'] == username, 'password'] = new_password\n",
    "            db.to_csv('data.csv', index=False)\n",
    "            print(\"Password updated successfully!\\n\")\n",
    "        else:\n",
    "            print(\"Incorrect answers to security questions.\")\n",
    "    else:\n",
    "        print(\"Invalid option.\")\n"
   ]
  },
  {
   "cell_type": "code",
   "execution_count": null,
   "id": "c55215b9-ff6e-40a9-aa28-62f826cf2089",
   "metadata": {},
   "outputs": [],
   "source": [
    "def homepage():\n",
    "    initialize_database()\n",
    "    while True:\n",
    "        choice = input(\"\"\"\n",
    "        Welcome!\n",
    "        Enter 1 for SignUp\n",
    "        Enter 0 for SignIn\n",
    "        Your choice: \"\"\")\n",
    "        if choice == '1':\n",
    "            signup()\n",
    "        elif choice == '0':\n",
    "            signin()\n",
    "        else:\n",
    "            print(\"Invalid choice. Try again.\\n\")\n",
    "\n",
    "# Start the program\n",
    "homepage()"
   ]
  },
  {
   "cell_type": "code",
   "execution_count": null,
   "id": "ba4c31e7-285e-4258-9161-f846e00d60e6",
   "metadata": {},
   "outputs": [],
   "source": []
  }
 ],
 "metadata": {
  "kernelspec": {
   "display_name": "Python [conda env:base] *",
   "language": "python",
   "name": "conda-base-py"
  },
  "language_info": {
   "codemirror_mode": {
    "name": "ipython",
    "version": 3
   },
   "file_extension": ".py",
   "mimetype": "text/x-python",
   "name": "python",
   "nbconvert_exporter": "python",
   "pygments_lexer": "ipython3",
   "version": "3.13.5"
  }
 },
 "nbformat": 4,
 "nbformat_minor": 5
}
